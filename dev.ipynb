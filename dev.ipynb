{
 "cells": [
  {
   "cell_type": "code",
   "execution_count": null,
   "metadata": {},
   "outputs": [],
   "source": [
    "\"\"\"\n",
    "vosk_transcribe.py\n",
    "\n",
    "This module provides a function to take a recorded file and transcribe the audio into the text of the target language.  Currently, this only support Chinese.  \n",
    "\"\"\"\n",
    "\n",
    "import json\n",
    "from vosk import Model, KaldiRecognizer, SetLogLevel\n",
    "import wave\n",
    "import re\n",
    "\n",
    "# Disable Vosk Logs\n",
    "SetLogLevel(-1)\n",
    "\n",
    "# Constants\n",
    "# Path to the downloaded Vosk model\n",
    "CHINESE_MODEL_PATH = \"translation/vosk-model-small-cn-0.22\"\n",
    "JAPANESE_MODEL_PATH = \"translation/vosk-model-small-ja-0.22\"\n",
    "\n",
    "# Path to the input WAV file\n",
    "WAV_FILE_PATH = r\"audio\\b83576bf-77f4-496f-a079-db7c02d2eb04.wav\"\n",
    "\n",
    "def transcribe(file = WAV_FILE_PATH, tl = \"Chinese\"):\n",
    "    \"\"\"\n",
    "    Uses a vosk model to transcribe a recorded WAV file to text in the target language\n",
    "\n",
    "    Parameters:\n",
    "    model (vosk Model): vosk model loaded from files stored locally on the host machine.\n",
    "    file (string): file location of the recorded audio from the user \n",
    "\n",
    "    Output:\n",
    "    string:  the transcribed text in the target language \n",
    "    \"\"\"\n",
    "        # Set model directory baesd on selected target language and Load the Vosk model\n",
    "    model = Model(CHINESE_MODEL_PATH) if tl == \"Chinese\" else Model(JAPANESE_MODEL_PATH)\n",
    " \n",
    "        # Open the WAV file\n",
    "    with wave.open(file, \"r\") as wf:\n",
    "        # Check if the audio file has the correct parameters\n",
    "        if wf.getnchannels() != 1 or wf.getsampwidth() != 2 or wf.getframerate() not in [8000, 16000, 32000, 44100, 48000]:\n",
    "            raise Exception(\"Audio file must be WAV format mono PCM.\")\n",
    "\n",
    "        # Create a Kaldi recognizer with the model and the sample rate\n",
    "        recognizer = KaldiRecognizer(model, wf.getframerate())\n",
    "\n",
    "        # Read the audio data and transcribe it\n",
    "        while True:\n",
    "            data = wf.readframes(4000)\n",
    "            if len(data) == 0:\n",
    "                break\n",
    "            if recognizer.AcceptWaveform(data):\n",
    "                result = recognizer.Result()\n",
    "                text = json.loads(result).get('text', '')\n",
    "\n",
    "        # Final result\n",
    "        final_result = recognizer.FinalResult()\n",
    "        final_result_test = json.loads(final_result).get('text', '')\n",
    "\n",
    "        if final_result_test != \"\":\n",
    "            input_text = json.loads(final_result).get('text', '')\n",
    "            input_text = re.sub(r\"\\s+\", \"\", input_text, flags=re.UNICODE)\n",
    "        else:\n",
    "            input_text = re.sub(r\"\\s+\", \"\", text, flags=re.UNICODE)\n",
    "\n",
    "        print(f\"Transcribed Text: {input_text}\")\n",
    "\n",
    "        return input_text"
   ]
  },
  {
   "cell_type": "code",
   "execution_count": 3,
   "metadata": {},
   "outputs": [
    {
     "ename": "Error",
     "evalue": "file does not start with RIFF id",
     "output_type": "error",
     "traceback": [
      "\u001b[31m---------------------------------------------------------------------------\u001b[39m",
      "\u001b[31mError\u001b[39m                                     Traceback (most recent call last)",
      "\u001b[36mCell\u001b[39m\u001b[36m \u001b[39m\u001b[32mIn[3]\u001b[39m\u001b[32m, line 1\u001b[39m\n\u001b[32m----> \u001b[39m\u001b[32m1\u001b[39m \u001b[43mtranscribe\u001b[49m\u001b[43m(\u001b[49m\u001b[43m)\u001b[49m\n",
      "\u001b[36mCell\u001b[39m\u001b[36m \u001b[39m\u001b[32mIn[1]\u001b[39m\u001b[32m, line 38\u001b[39m, in \u001b[36mtranscribe\u001b[39m\u001b[34m(file, tl)\u001b[39m\n\u001b[32m     35\u001b[39m model = Model(CHINESE_MODEL_PATH) \u001b[38;5;28;01mif\u001b[39;00m tl == \u001b[33m\"\u001b[39m\u001b[33mChinese\u001b[39m\u001b[33m\"\u001b[39m \u001b[38;5;28;01melse\u001b[39;00m Model(JAPANESE_MODEL_PATH)\n\u001b[32m     37\u001b[39m     \u001b[38;5;66;03m# Open the WAV file\u001b[39;00m\n\u001b[32m---> \u001b[39m\u001b[32m38\u001b[39m \u001b[38;5;28;01mwith\u001b[39;00m \u001b[43mwave\u001b[49m\u001b[43m.\u001b[49m\u001b[43mopen\u001b[49m\u001b[43m(\u001b[49m\u001b[43mfile\u001b[49m\u001b[43m,\u001b[49m\u001b[43m \u001b[49m\u001b[33;43m\"\u001b[39;49m\u001b[33;43mrb\u001b[39;49m\u001b[33;43m\"\u001b[39;49m\u001b[43m)\u001b[49m \u001b[38;5;28;01mas\u001b[39;00m wf:\n\u001b[32m     39\u001b[39m     \u001b[38;5;66;03m# Check if the audio file has the correct parameters\u001b[39;00m\n\u001b[32m     40\u001b[39m     \u001b[38;5;28;01mif\u001b[39;00m wf.getnchannels() != \u001b[32m1\u001b[39m \u001b[38;5;129;01mor\u001b[39;00m wf.getsampwidth() != \u001b[32m2\u001b[39m \u001b[38;5;129;01mor\u001b[39;00m wf.getframerate() \u001b[38;5;129;01mnot\u001b[39;00m \u001b[38;5;129;01min\u001b[39;00m [\u001b[32m8000\u001b[39m, \u001b[32m16000\u001b[39m, \u001b[32m32000\u001b[39m, \u001b[32m44100\u001b[39m, \u001b[32m48000\u001b[39m]:\n\u001b[32m     41\u001b[39m         \u001b[38;5;28;01mraise\u001b[39;00m \u001b[38;5;167;01mException\u001b[39;00m(\u001b[33m\"\u001b[39m\u001b[33mAudio file must be WAV format mono PCM.\u001b[39m\u001b[33m\"\u001b[39m)\n",
      "\u001b[36mFile \u001b[39m\u001b[32m~\\AppData\\Local\\Programs\\Python\\Python313\\Lib\\wave.py:659\u001b[39m, in \u001b[36mopen\u001b[39m\u001b[34m(f, mode)\u001b[39m\n\u001b[32m    657\u001b[39m         mode = \u001b[33m'\u001b[39m\u001b[33mrb\u001b[39m\u001b[33m'\u001b[39m\n\u001b[32m    658\u001b[39m \u001b[38;5;28;01mif\u001b[39;00m mode \u001b[38;5;129;01min\u001b[39;00m (\u001b[33m'\u001b[39m\u001b[33mr\u001b[39m\u001b[33m'\u001b[39m, \u001b[33m'\u001b[39m\u001b[33mrb\u001b[39m\u001b[33m'\u001b[39m):\n\u001b[32m--> \u001b[39m\u001b[32m659\u001b[39m     \u001b[38;5;28;01mreturn\u001b[39;00m \u001b[43mWave_read\u001b[49m\u001b[43m(\u001b[49m\u001b[43mf\u001b[49m\u001b[43m)\u001b[49m\n\u001b[32m    660\u001b[39m \u001b[38;5;28;01melif\u001b[39;00m mode \u001b[38;5;129;01min\u001b[39;00m (\u001b[33m'\u001b[39m\u001b[33mw\u001b[39m\u001b[33m'\u001b[39m, \u001b[33m'\u001b[39m\u001b[33mwb\u001b[39m\u001b[33m'\u001b[39m):\n\u001b[32m    661\u001b[39m     \u001b[38;5;28;01mreturn\u001b[39;00m Wave_write(f)\n",
      "\u001b[36mFile \u001b[39m\u001b[32m~\\AppData\\Local\\Programs\\Python\\Python313\\Lib\\wave.py:286\u001b[39m, in \u001b[36mWave_read.__init__\u001b[39m\u001b[34m(self, f)\u001b[39m\n\u001b[32m    284\u001b[39m \u001b[38;5;66;03m# else, assume it is an open file object already\u001b[39;00m\n\u001b[32m    285\u001b[39m \u001b[38;5;28;01mtry\u001b[39;00m:\n\u001b[32m--> \u001b[39m\u001b[32m286\u001b[39m     \u001b[38;5;28;43mself\u001b[39;49m\u001b[43m.\u001b[49m\u001b[43minitfp\u001b[49m\u001b[43m(\u001b[49m\u001b[43mf\u001b[49m\u001b[43m)\u001b[49m\n\u001b[32m    287\u001b[39m \u001b[38;5;28;01mexcept\u001b[39;00m:\n\u001b[32m    288\u001b[39m     \u001b[38;5;28;01mif\u001b[39;00m \u001b[38;5;28mself\u001b[39m._i_opened_the_file:\n",
      "\u001b[36mFile \u001b[39m\u001b[32m~\\AppData\\Local\\Programs\\Python\\Python313\\Lib\\wave.py:253\u001b[39m, in \u001b[36mWave_read.initfp\u001b[39m\u001b[34m(self, file)\u001b[39m\n\u001b[32m    251\u001b[39m \u001b[38;5;28mself\u001b[39m._file = _Chunk(file, bigendian = \u001b[32m0\u001b[39m)\n\u001b[32m    252\u001b[39m \u001b[38;5;28;01mif\u001b[39;00m \u001b[38;5;28mself\u001b[39m._file.getname() != \u001b[33mb\u001b[39m\u001b[33m'\u001b[39m\u001b[33mRIFF\u001b[39m\u001b[33m'\u001b[39m:\n\u001b[32m--> \u001b[39m\u001b[32m253\u001b[39m     \u001b[38;5;28;01mraise\u001b[39;00m Error(\u001b[33m'\u001b[39m\u001b[33mfile does not start with RIFF id\u001b[39m\u001b[33m'\u001b[39m)\n\u001b[32m    254\u001b[39m \u001b[38;5;28;01mif\u001b[39;00m \u001b[38;5;28mself\u001b[39m._file.read(\u001b[32m4\u001b[39m) != \u001b[33mb\u001b[39m\u001b[33m'\u001b[39m\u001b[33mWAVE\u001b[39m\u001b[33m'\u001b[39m:\n\u001b[32m    255\u001b[39m     \u001b[38;5;28;01mraise\u001b[39;00m Error(\u001b[33m'\u001b[39m\u001b[33mnot a WAVE file\u001b[39m\u001b[33m'\u001b[39m)\n",
      "\u001b[31mError\u001b[39m: file does not start with RIFF id"
     ]
    }
   ],
   "source": [
    "transcribe()"
   ]
  }
 ],
 "metadata": {
  "kernelspec": {
   "display_name": "language_venv",
   "language": "python",
   "name": "python3"
  },
  "language_info": {
   "codemirror_mode": {
    "name": "ipython",
    "version": 3
   },
   "file_extension": ".py",
   "mimetype": "text/x-python",
   "name": "python",
   "nbconvert_exporter": "python",
   "pygments_lexer": "ipython3",
   "version": "3.13.1"
  }
 },
 "nbformat": 4,
 "nbformat_minor": 2
}
