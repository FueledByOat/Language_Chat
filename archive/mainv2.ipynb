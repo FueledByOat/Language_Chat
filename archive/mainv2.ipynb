{
 "cells": [
  {
   "cell_type": "code",
   "execution_count": 25,
   "metadata": {},
   "outputs": [
    {
     "name": "stdout",
     "output_type": "stream",
     "text": [
      "Requirement already satisfied: vosk in c:\\users\\smith\\appdata\\local\\programs\\python\\python312\\lib\\site-packages (0.3.45)Note: you may need to restart the kernel to use updated packages.\n",
      "\n",
      "Requirement already satisfied: cffi>=1.0 in c:\\users\\smith\\appdata\\local\\programs\\python\\python312\\lib\\site-packages (from vosk) (1.16.0)\n",
      "Requirement already satisfied: requests in c:\\users\\smith\\appdata\\local\\programs\\python\\python312\\lib\\site-packages (from vosk) (2.31.0)\n",
      "Requirement already satisfied: srt in c:\\users\\smith\\appdata\\local\\programs\\python\\python312\\lib\\site-packages (from vosk) (3.5.3)\n",
      "Requirement already satisfied: tqdm in c:\\users\\smith\\appdata\\local\\programs\\python\\python312\\lib\\site-packages (from vosk) (4.66.2)\n",
      "Requirement already satisfied: websockets in c:\\users\\smith\\appdata\\local\\programs\\python\\python312\\lib\\site-packages (from vosk) (12.0)\n",
      "Requirement already satisfied: pycparser in c:\\users\\smith\\appdata\\local\\programs\\python\\python312\\lib\\site-packages (from cffi>=1.0->vosk) (2.22)\n",
      "Requirement already satisfied: charset-normalizer<4,>=2 in c:\\users\\smith\\appdata\\local\\programs\\python\\python312\\lib\\site-packages (from requests->vosk) (3.3.2)\n",
      "Requirement already satisfied: idna<4,>=2.5 in c:\\users\\smith\\appdata\\local\\programs\\python\\python312\\lib\\site-packages (from requests->vosk) (2.10)\n",
      "Requirement already satisfied: urllib3<3,>=1.21.1 in c:\\users\\smith\\appdata\\local\\programs\\python\\python312\\lib\\site-packages (from requests->vosk) (2.1.0)\n",
      "Requirement already satisfied: certifi>=2017.4.17 in c:\\users\\smith\\appdata\\local\\programs\\python\\python312\\lib\\site-packages (from requests->vosk) (2023.11.17)\n",
      "Requirement already satisfied: colorama in c:\\users\\smith\\appdata\\roaming\\python\\python312\\site-packages (from tqdm->vosk) (0.4.6)\n",
      "Requirement already satisfied: pyaudio in c:\\users\\smith\\appdata\\local\\programs\\python\\python312\\lib\\site-packages (0.2.14)\n",
      "Note: you may need to restart the kernel to use updated packages.\n",
      "Requirement already satisfied: transformers in c:\\users\\smith\\appdata\\local\\programs\\python\\python312\\lib\\site-packages (4.39.1)\n",
      "Requirement already satisfied: filelock in c:\\users\\smith\\appdata\\local\\programs\\python\\python312\\lib\\site-packages (from transformers) (3.13.3)\n",
      "Requirement already satisfied: huggingface-hub<1.0,>=0.19.3 in c:\\users\\smith\\appdata\\local\\programs\\python\\python312\\lib\\site-packages (from transformers) (0.22.1)\n",
      "Requirement already satisfied: numpy>=1.17 in c:\\users\\smith\\appdata\\local\\programs\\python\\python312\\lib\\site-packages (from transformers) (1.26.2)\n",
      "Requirement already satisfied: packaging>=20.0 in c:\\users\\smith\\appdata\\roaming\\python\\python312\\site-packages (from transformers) (23.2)\n",
      "Requirement already satisfied: pyyaml>=5.1 in c:\\users\\smith\\appdata\\local\\programs\\python\\python312\\lib\\site-packages (from transformers) (6.0.1)\n",
      "Requirement already satisfied: regex!=2019.12.17 in c:\\users\\smith\\appdata\\local\\programs\\python\\python312\\lib\\site-packages (from transformers) (2023.12.25)\n",
      "Requirement already satisfied: requests in c:\\users\\smith\\appdata\\local\\programs\\python\\python312\\lib\\site-packages (from transformers) (2.31.0)\n",
      "Requirement already satisfied: tokenizers<0.19,>=0.14 in c:\\users\\smith\\appdata\\local\\programs\\python\\python312\\lib\\site-packages (from transformers) (0.15.2)\n",
      "Requirement already satisfied: safetensors>=0.4.1 in c:\\users\\smith\\appdata\\local\\programs\\python\\python312\\lib\\site-packages (from transformers) (0.4.2)\n",
      "Requirement already satisfied: tqdm>=4.27 in c:\\users\\smith\\appdata\\local\\programs\\python\\python312\\lib\\site-packages (from transformers) (4.66.2)\n",
      "Requirement already satisfied: fsspec>=2023.5.0 in c:\\users\\smith\\appdata\\local\\programs\\python\\python312\\lib\\site-packages (from huggingface-hub<1.0,>=0.19.3->transformers) (2024.3.1)\n",
      "Requirement already satisfied: typing-extensions>=3.7.4.3 in c:\\users\\smith\\appdata\\local\\programs\\python\\python312\\lib\\site-packages (from huggingface-hub<1.0,>=0.19.3->transformers) (4.8.0)\n",
      "Requirement already satisfied: colorama in c:\\users\\smith\\appdata\\roaming\\python\\python312\\site-packages (from tqdm>=4.27->transformers) (0.4.6)\n",
      "Requirement already satisfied: charset-normalizer<4,>=2 in c:\\users\\smith\\appdata\\local\\programs\\python\\python312\\lib\\site-packages (from requests->transformers) (3.3.2)\n",
      "Requirement already satisfied: idna<4,>=2.5 in c:\\users\\smith\\appdata\\local\\programs\\python\\python312\\lib\\site-packages (from requests->transformers) (2.10)\n",
      "Requirement already satisfied: urllib3<3,>=1.21.1 in c:\\users\\smith\\appdata\\local\\programs\\python\\python312\\lib\\site-packages (from requests->transformers) (2.1.0)\n",
      "Requirement already satisfied: certifi>=2017.4.17 in c:\\users\\smith\\appdata\\local\\programs\\python\\python312\\lib\\site-packages (from requests->transformers) (2023.11.17)\n",
      "Note: you may need to restart the kernel to use updated packages.\n",
      "Requirement already satisfied: wave in c:\\users\\smith\\appdata\\local\\programs\\python\\python312\\lib\\site-packages (0.0.2)Note: you may need to restart the kernel to use updated packages.\n",
      "\n",
      "Requirement already satisfied: googletrans==4.0.0-rc1 in c:\\users\\smith\\appdata\\local\\programs\\python\\python312\\lib\\site-packages (4.0.0rc1)\n",
      "Requirement already satisfied: httpx==0.13.3 in c:\\users\\smith\\appdata\\local\\programs\\python\\python312\\lib\\site-packages (from googletrans==4.0.0-rc1) (0.13.3)\n",
      "Requirement already satisfied: certifi in c:\\users\\smith\\appdata\\local\\programs\\python\\python312\\lib\\site-packages (from httpx==0.13.3->googletrans==4.0.0-rc1) (2023.11.17)\n",
      "Requirement already satisfied: hstspreload in c:\\users\\smith\\appdata\\local\\programs\\python\\python312\\lib\\site-packages (from httpx==0.13.3->googletrans==4.0.0-rc1) (2024.5.1)\n",
      "Requirement already satisfied: sniffio in c:\\users\\smith\\appdata\\local\\programs\\python\\python312\\lib\\site-packages (from httpx==0.13.3->googletrans==4.0.0-rc1) (1.3.1)\n",
      "Requirement already satisfied: chardet==3.* in c:\\users\\smith\\appdata\\local\\programs\\python\\python312\\lib\\site-packages (from httpx==0.13.3->googletrans==4.0.0-rc1) (3.0.4)\n",
      "Requirement already satisfied: idna==2.* in c:\\users\\smith\\appdata\\local\\programs\\python\\python312\\lib\\site-packages (from httpx==0.13.3->googletrans==4.0.0-rc1) (2.10)\n",
      "Requirement already satisfied: rfc3986<2,>=1.3 in c:\\users\\smith\\appdata\\local\\programs\\python\\python312\\lib\\site-packages (from httpx==0.13.3->googletrans==4.0.0-rc1) (1.5.0)\n",
      "Requirement already satisfied: httpcore==0.9.* in c:\\users\\smith\\appdata\\local\\programs\\python\\python312\\lib\\site-packages (from httpx==0.13.3->googletrans==4.0.0-rc1) (0.9.1)\n",
      "Requirement already satisfied: h11<0.10,>=0.8 in c:\\users\\smith\\appdata\\local\\programs\\python\\python312\\lib\\site-packages (from httpcore==0.9.*->httpx==0.13.3->googletrans==4.0.0-rc1) (0.9.0)\n",
      "Requirement already satisfied: h2==3.* in c:\\users\\smith\\appdata\\local\\programs\\python\\python312\\lib\\site-packages (from httpcore==0.9.*->httpx==0.13.3->googletrans==4.0.0-rc1) (3.2.0)\n",
      "Requirement already satisfied: hyperframe<6,>=5.2.0 in c:\\users\\smith\\appdata\\local\\programs\\python\\python312\\lib\\site-packages (from h2==3.*->httpcore==0.9.*->httpx==0.13.3->googletrans==4.0.0-rc1) (5.2.0)\n",
      "Requirement already satisfied: hpack<4,>=3.0 in c:\\users\\smith\\appdata\\local\\programs\\python\\python312\\lib\\site-packages (from h2==3.*->httpcore==0.9.*->httpx==0.13.3->googletrans==4.0.0-rc1) (3.0.0)\n",
      "Note: you may need to restart the kernel to use updated packages.\n",
      "Collecting pyttsx3\n",
      "  Downloading pyttsx3-2.90-py3-none-any.whl.metadata (3.6 kB)\n",
      "Collecting comtypes (from pyttsx3)\n",
      "  Downloading comtypes-1.4.2-py3-none-any.whl.metadata (4.1 kB)\n",
      "Collecting pypiwin32 (from pyttsx3)\n",
      "  Downloading pypiwin32-223-py3-none-any.whl.metadata (236 bytes)\n",
      "Requirement already satisfied: pywin32 in c:\\users\\smith\\appdata\\roaming\\python\\python312\\site-packages (from pyttsx3) (306)\n",
      "Downloading pyttsx3-2.90-py3-none-any.whl (39 kB)\n",
      "Downloading comtypes-1.4.2-py3-none-any.whl (201 kB)\n",
      "   ---------------------------------------- 0.0/201.2 kB ? eta -:--:--\n",
      "   ------------------------------ --------- 153.6/201.2 kB 4.6 MB/s eta 0:00:01\n",
      "   ---------------------------------------- 201.2/201.2 kB 4.2 MB/s eta 0:00:00\n",
      "Downloading pypiwin32-223-py3-none-any.whl (1.7 kB)\n",
      "Installing collected packages: comtypes, pypiwin32, pyttsx3\n",
      "Successfully installed comtypes-1.4.2 pypiwin32-223 pyttsx3-2.90\n",
      "Note: you may need to restart the kernel to use updated packages.\n"
     ]
    }
   ],
   "source": [
    "%pip install vosk\n",
    "%pip install pyaudio\n",
    "%pip install transformers\n",
    "%pip install wave\n",
    "%pip install googletrans==4.0.0-rc1\n",
    "%pip install pyttsx3"
   ]
  },
  {
   "cell_type": "code",
   "execution_count": 1,
   "metadata": {},
   "outputs": [],
   "source": [
    "from googletrans import Translator\n",
    "from transformers import GPT2LMHeadModel, GPT2Tokenizer\n",
    "import json\n",
    "import wave\n",
    "import sys\n",
    "from vosk import Model, KaldiRecognizer\n",
    "import pyaudio\n",
    "import re\n",
    "import pyttsx3"
   ]
  },
  {
   "cell_type": "code",
   "execution_count": 3,
   "metadata": {},
   "outputs": [
    {
     "name": "stdout",
     "output_type": "stream",
     "text": [
      "Recording...\n",
      "Done\n"
     ]
    }
   ],
   "source": [
    "# Step 0: Records Audio Sample\n",
    "\n",
    "CHUNK = 1024\n",
    "FORMAT = pyaudio.paInt16\n",
    "CHANNELS = 1\n",
    "RATE = 44100\n",
    "RECORD_SECONDS = 3\n",
    "\n",
    "with wave.open('human_input.wav', 'wb') as wf:\n",
    "    p = pyaudio.PyAudio()\n",
    "    wf.setnchannels(CHANNELS)\n",
    "    wf.setsampwidth(p.get_sample_size(FORMAT))\n",
    "    wf.setframerate(RATE)\n",
    "\n",
    "    stream = p.open(format=FORMAT, channels=CHANNELS, rate=RATE, input=True)\n",
    "\n",
    "    print('Recording...')\n",
    "    for _ in range(0, RATE // CHUNK * RECORD_SECONDS):\n",
    "        wf.writeframes(stream.read(CHUNK))\n",
    "    print('Done')\n",
    "\n",
    "    stream.close()\n",
    "    p.terminate()\n"
   ]
  },
  {
   "cell_type": "code",
   "execution_count": 8,
   "metadata": {},
   "outputs": [],
   "source": [
    "# Play Audio Section\n",
    "\n",
    "if len(sys.argv) < 2:\n",
    "    print(f'Plays a wave file. Usage: {sys.argv[0]} filename.wav')\n",
    "    sys.exit(-1)\n",
    "\n",
    "with wave.open(\"human_input.wav\", 'rb') as wf:\n",
    "    # Instantiate PyAudio and initialize PortAudio system resources (1)\n",
    "    p = pyaudio.PyAudio()\n",
    "\n",
    "    # Open stream (2)\n",
    "    stream = p.open(format=p.get_format_from_width(wf.getsampwidth()),\n",
    "                    channels=wf.getnchannels(),\n",
    "                    rate=wf.getframerate(),\n",
    "                    output=True)\n",
    "\n",
    "    # Play samples from the wave file (3)\n",
    "    while len(data := wf.readframes(CHUNK)):  # Requires Python 3.8+ for :=\n",
    "        stream.write(data)\n",
    "\n",
    "    # Close stream (4)\n",
    "    stream.close()\n",
    "\n",
    "    # Release PortAudio system resources (5)\n",
    "    p.terminate()"
   ]
  },
  {
   "cell_type": "code",
   "execution_count": 9,
   "metadata": {},
   "outputs": [
    {
     "name": "stdout",
     "output_type": "stream",
     "text": [
      "Final recognized text: 我很小\n"
     ]
    }
   ],
   "source": [
    "# Step 1: Chinese Speech Recognition with Vosk\n",
    "\n",
    "# Path to the downloaded Vosk model\n",
    "model_path = \"vosk-model-small-cn-0.22\"\n",
    "\n",
    "# Path to the input WAV file\n",
    "wav_file_path = \"human_input.wav\"\n",
    "\n",
    "# Load the Vosk model\n",
    "model = Model(model_path)\n",
    "\n",
    "# Open the WAV file\n",
    "with wave.open(wav_file_path, \"rb\") as wf:\n",
    "    # Check if the audio file has the correct parameters\n",
    "    if wf.getnchannels() != 1 or wf.getsampwidth() != 2 or wf.getframerate() not in [8000, 16000, 32000, 44100, 48000]:\n",
    "        # print(\"Audio file must be WAV format mono PCM.\")\n",
    "        raise Exception(\"Audio file must be WAV format mono PCM.\")\n",
    "\n",
    "    # Create a Kaldi recognizer with the model and the sample rate\n",
    "    recognizer = KaldiRecognizer(model, wf.getframerate())\n",
    "\n",
    "    # Read the audio data and transcribe it\n",
    "    while True:\n",
    "        data = wf.readframes(4000)\n",
    "        if len(data) == 0:\n",
    "            break\n",
    "        if recognizer.AcceptWaveform(data):\n",
    "            result = recognizer.Result()\n",
    "            text = json.loads(result).get('text', '')\n",
    "            # print(f\"Recognized text: {text}\")\n",
    "\n",
    "    # Final result\n",
    "    final_result = recognizer.FinalResult()\n",
    "    final_result_test = json.loads(final_result).get('text', '')\n",
    "\n",
    "    if final_result_test != \"\":\n",
    "        chinese_input_text = json.loads(final_result).get('text', '')\n",
    "        chinese_input_text = re.sub(r\"\\s+\", \"\", chinese_input_text, flags=re.UNICODE)\n",
    "    else:\n",
    "        chinese_input_text = re.sub(r\"\\s+\", \"\", text, flags=re.UNICODE)\n",
    "\n",
    "    \n",
    "\n",
    "    print(f\"Final recognized text: {chinese_input_text}\")"
   ]
  },
  {
   "cell_type": "code",
   "execution_count": 10,
   "metadata": {},
   "outputs": [
    {
     "name": "stdout",
     "output_type": "stream",
     "text": [
      "I am small\n"
     ]
    }
   ],
   "source": [
    "# Step 2: Translate from Chinese to English \n",
    "\n",
    "\n",
    "# Initialize the translator\n",
    "translator = Translator()\n",
    "\n",
    "# Translate from Chinese to English\n",
    "translated = translator.translate(chinese_input_text, src='zh-cn', dest='en')\n",
    "print(translated.text)  \n",
    "\n"
   ]
  },
  {
   "cell_type": "code",
   "execution_count": 11,
   "metadata": {},
   "outputs": [
    {
     "name": "stderr",
     "output_type": "stream",
     "text": [
      "The attention mask and the pad token id were not set. As a consequence, you may observe unexpected behavior. Please pass your input's `attention_mask` to obtain reliable results.\n",
      "Setting `pad_token_id` to `eos_token_id`:50256 for open-end generation.\n"
     ]
    },
    {
     "name": "stdout",
     "output_type": "stream",
     "text": [
      "I am small, but if you can't stand to have your body exposed\n"
     ]
    }
   ],
   "source": [
    "# Step 3: Generate reply using GPT-2\n",
    "\n",
    "# Load pre-trained model and tokenizer\n",
    "model_name = \"gpt2\"\n",
    "tokenizer = GPT2Tokenizer.from_pretrained(model_name)\n",
    "model = GPT2LMHeadModel.from_pretrained(model_name)\n",
    "\n",
    "# Input text\n",
    "input_text = translated.text\n",
    "\n",
    "# Encode the input text\n",
    "input_ids = tokenizer.encode(input_text, return_tensors='pt')\n",
    "\n",
    "# Generate output with additional parameters\n",
    "output = model.generate(\n",
    "    input_ids,\n",
    "    max_length=15,  # Maximum length of the generated sequence\n",
    "    num_return_sequences=1,  # Number of sequences to return\n",
    "    temperature=0.8,  # Lower temperature results in more focused output\n",
    "    top_k=25,  # Limit to top-k tokens\n",
    "    top_p=0.9,  # Limit to top-p cumulative probability\n",
    "    repetition_penalty=1.3,  # Penalty for repetition\n",
    "    do_sample=True  # Use sampling instead of greedy decoding\n",
    ")\n",
    "\n",
    "# Decode and print the output\n",
    "gpt_reply_text = tokenizer.decode(output[0], skip_special_tokens=True)\n",
    "print(gpt_reply_text)"
   ]
  },
  {
   "cell_type": "code",
   "execution_count": 12,
   "metadata": {},
   "outputs": [
    {
     "name": "stdout",
     "output_type": "stream",
     "text": [
      "我很小，但是如果你不能忍受你的身体\n"
     ]
    }
   ],
   "source": [
    "# Step 4:  Translate back to Chinese\n",
    "\n",
    "# Translate from English to Chinese\n",
    "translated_to_zh = translator.translate(gpt_reply_text, src='en', dest='zh-cn')\n",
    "print(translated_to_zh.text)  "
   ]
  },
  {
   "cell_type": "code",
   "execution_count": 10,
   "metadata": {},
   "outputs": [],
   "source": [
    "\n",
    "# Step 5: Translate reply back to Chinese (Assuming using a pre-trained model or local translation tool)\n",
    "\n",
    "# Initialize the text-to-speech engine\n",
    "engine = pyttsx3.init()\n",
    "\n",
    "# Set the voice to a Chinese voice (you may need to adjust the voice ID)\n",
    "# voices = engine.getProperty('voices')\n",
    "# for voice in voices:\n",
    "#     if 'chinese' in voice.name.lower():\n",
    "#         engine.setProperty('voice', voice.id)\n",
    "#         break\n",
    "\n",
    "# Get the Chinese text input\n",
    "chinese_text = input(translated_to_zh.text)\n",
    "\n",
    "# Convert the text to speech and save it as an audio file\n",
    "engine.save_to_file(chinese_text, 'chinese_output.mp3')\n",
    "engine.runAndWait()\n",
    "print(\"Audio file 'chinese_output.mp3' has been created.\")"
   ]
  },
  {
   "cell_type": "code",
   "execution_count": 13,
   "metadata": {},
   "outputs": [],
   "source": [
    "engine = pyttsx3.init()\n",
    "engine.say(translated_to_zh.text)\n",
    "engine.runAndWait()"
   ]
  },
  {
   "cell_type": "code",
   "execution_count": 25,
   "metadata": {},
   "outputs": [
    {
     "ename": "NameError",
     "evalue": "name 'chinese_text' is not defined",
     "output_type": "error",
     "traceback": [
      "\u001b[1;31m---------------------------------------------------------------------------\u001b[0m",
      "\u001b[1;31mNameError\u001b[0m                                 Traceback (most recent call last)",
      "Cell \u001b[1;32mIn[25], line 17\u001b[0m\n\u001b[0;32m     14\u001b[0m         \u001b[38;5;28;01mbreak\u001b[39;00m\n\u001b[0;32m     16\u001b[0m \u001b[38;5;66;03m# Text to be spoken\u001b[39;00m\n\u001b[1;32m---> 17\u001b[0m text_to_speak \u001b[38;5;241m=\u001b[39m \u001b[43mchinese_text\u001b[49m\n\u001b[0;32m     19\u001b[0m \u001b[38;5;66;03m# Speak the text\u001b[39;00m\n\u001b[0;32m     20\u001b[0m engine\u001b[38;5;241m.\u001b[39msay(text_to_speak)\n",
      "\u001b[1;31mNameError\u001b[0m: name 'chinese_text' is not defined"
     ]
    }
   ],
   "source": [
    "# Step 5: Translate reply back to Chinese \n",
    "\n",
    "# Initialize the TTS engine\n",
    "engine = pyttsx3.init()\n",
    "\n",
    "# Set properties before adding anything to speak\n",
    "engine.setProperty('rate', 150)  # Speed percent (can go over 100)\n",
    "engine.setProperty('volume', 1)  # Volume 0-1\n",
    "\n",
    "# List available voices and set the voice to a Chinese one if available\n",
    "voices = engine.getProperty('voices')\n",
    "for voice in voices:\n",
    "    # print(f\"Voice: {voice.name}, ID: {voice.id}, Languages: {voice.languages}\")\n",
    "    if 'ZH' in voice.languages or 'ZH-CN' in voice.id:\n",
    "        engine.setProperty('voice', voice.id)\n",
    "        break\n",
    "\n",
    "# Text to be spoken\n",
    "text_to_speak = chinese_text\n",
    "\n",
    "# Speak the text\n",
    "engine.say(text_to_speak)\n",
    "engine.runAndWait()"
   ]
  },
  {
   "cell_type": "code",
   "execution_count": 6,
   "metadata": {},
   "outputs": [],
   "source": [
    "# Play Audio Section\n",
    "\n",
    "\n",
    "\n",
    "with wave.open(\"chinese_output.mp3\", 'rb') as wf:\n",
    "    # Instantiate PyAudio and initialize PortAudio system resources (1)\n",
    "    p = pyaudio.PyAudio()\n",
    "\n",
    "    # Open stream (2)\n",
    "    stream = p.open(format=p.get_format_from_width(wf.getsampwidth()),\n",
    "                    channels=wf.getnchannels(),\n",
    "                    rate=wf.getframerate(),\n",
    "                    output=True)\n",
    "\n",
    "    # Play samples from the wave file (3)\n",
    "    while len(data := wf.readframes(CHUNK)):  # Requires Python 3.8+ for :=\n",
    "        stream.write(data)\n",
    "\n",
    "    # Close stream (4)\n",
    "    stream.close()\n",
    "\n",
    "    # Release PortAudio system resources (5)\n",
    "    p.terminate()"
   ]
  }
 ],
 "metadata": {
  "kernelspec": {
   "display_name": "Python 3",
   "language": "python",
   "name": "python3"
  },
  "language_info": {
   "codemirror_mode": {
    "name": "ipython",
    "version": 3
   },
   "file_extension": ".py",
   "mimetype": "text/x-python",
   "name": "python",
   "nbconvert_exporter": "python",
   "pygments_lexer": "ipython3",
   "version": "3.12.0"
  }
 },
 "nbformat": 4,
 "nbformat_minor": 2
}
